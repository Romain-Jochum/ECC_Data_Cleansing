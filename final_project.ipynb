{
 "cells": [
  {
   "metadata": {
    "ExecuteTime": {
     "end_time": "2024-05-16T00:37:57.205551Z",
     "start_time": "2024-05-16T00:37:57.198810Z"
    }
   },
   "cell_type": "code",
   "source": [
    "import pandas as pd\n",
    "import numpy as np\n",
    "import re\n",
    "import matplotlib.pyplot as plt\n",
    "pd.set_option('display.max_columns', None)\n",
    "pd.set_option('max_colwidth', 1000)\n",
    "pd.set_option('display.width', 500)"
   ],
   "id": "e564fa8a4fd0cf7e",
   "outputs": [],
   "execution_count": 157
  },
  {
   "cell_type": "code",
   "id": "initial_id",
   "metadata": {
    "collapsed": true,
    "ExecuteTime": {
     "end_time": "2024-05-16T00:37:59.061571Z",
     "start_time": "2024-05-16T00:37:58.594855Z"
    }
   },
   "source": [
    "csv_file_path = \"./project_3.csv\"\n",
    "original_df = pd.read_csv(csv_file_path)\n",
    "df = original_df.copy()"
   ],
   "outputs": [],
   "execution_count": 158
  },
  {
   "metadata": {},
   "cell_type": "markdown",
   "source": "# Simple Data Exploration over the whole dataset",
   "id": "14576e44b3389646"
  },
  {
   "metadata": {},
   "cell_type": "code",
   "source": [
    "df_columns = [column for column in df.columns]\n",
    "print(df_columns)"
   ],
   "id": "9b39a215989d19c8",
   "outputs": [],
   "execution_count": null
  },
  {
   "metadata": {},
   "cell_type": "code",
   "source": "print(df.info())",
   "id": "2d2175eb91c1e70d",
   "outputs": [],
   "execution_count": null
  },
  {
   "metadata": {},
   "cell_type": "code",
   "source": "print(df.describe())",
   "id": "67380c7e1f617f7f",
   "outputs": [],
   "execution_count": null
  },
  {
   "metadata": {},
   "cell_type": "code",
   "source": [
    "missing_values_count = df.isna().sum()\n",
    "missing_values_count_non_zero = missing_values_count[missing_values_count > 0]\n",
    "print(f\"Number of missing values per column:\\n\"\n",
    "      f\"{missing_values_count_non_zero}\")"
   ],
   "id": "f1dec03241719424",
   "outputs": [],
   "execution_count": null
  },
  {
   "metadata": {},
   "cell_type": "code",
   "source": [
    "unique_count = []\n",
    "for column in df.columns:\n",
    "    ratio_unique_value = len(df[column]) / len(df[column].unique())\n",
    "    unique_count.append((column, ratio_unique_value))\n",
    "\n",
    "unique_count.sort(key=lambda x: x[1])\n",
    "\n",
    "thresholds = [1, 2, 20]  \n",
    "colors = ['purple', 'red', 'orange', 'green']\n",
    "\n",
    "color_map = np.digitize([ratio for _, ratio in unique_count], thresholds, right=True)\n",
    "\n",
    "columns, ratios = zip(*unique_count)\n",
    "plt.figure(figsize=(10, 10))\n",
    "bar_plot = plt.barh(columns, ratios, color=[colors[idx] for idx in color_map])\n",
    "plt.xscale('log')\n",
    "plt.xlabel('Ratio of Unique Values (log scale)')\n",
    "plt.ylabel('Columns')\n",
    "plt.title('Ratio of Unique Values in Each Column')\n",
    "\n",
    "for i, ratio in enumerate(ratios):\n",
    "    if ratio > 5 or int(ratio * 100) % 10 == 0:\n",
    "        text = f'{ratio:.0f}'\n",
    "    else:\n",
    "        text = f'{ratio:.2f}'\n",
    "    plt.text(ratio, i, text, ha='left', va='center', color='black', fontsize=8)\n",
    "\n",
    "plt.show()"
   ],
   "id": "9553c05db0b8daef",
   "outputs": [],
   "execution_count": null
  },
  {
   "metadata": {},
   "cell_type": "code",
   "source": [
    "import matplotlib.pyplot as plt\n",
    "\n",
    "max_unique_val = 30\n",
    "\n",
    "valid_columns_count = sum(1 for column_name in df.columns if len(df[column_name].value_counts().index) < 20)\n",
    "\n",
    "num_rows = (valid_columns_count + 1) // 2\n",
    "num_cols = 2\n",
    "\n",
    "fig, axs = plt.subplots(num_rows, num_cols, figsize=(12, 6*num_rows))\n",
    "\n",
    "if num_rows == 1 and num_cols == 1:\n",
    "    axs = [axs]\n",
    "\n",
    "subplot_index = 0\n",
    "for column_name in df.columns:\n",
    "    unique_values_distribution = df[column_name].value_counts()\n",
    "    if len(unique_values_distribution.index) < max_unique_val:\n",
    "        row_index = subplot_index // num_cols\n",
    "        col_index = subplot_index % num_cols\n",
    "\n",
    "        axs[row_index, col_index].bar(unique_values_distribution.index, unique_values_distribution.values)\n",
    "        axs[row_index, col_index].set_title('Column \"{}\"'.format(column_name))\n",
    "        axs[row_index, col_index].set_xlabel('Unique Values')\n",
    "        axs[row_index, col_index].set_ylabel('Count')\n",
    "        axs[row_index, col_index].tick_params(axis='x', rotation=45)\n",
    "        axs[row_index, col_index].grid(axis='y', linestyle='--', alpha=0.7)\n",
    "        \n",
    "        subplot_index += 1\n",
    "\n",
    "# Adjust layout\n",
    "plt.tight_layout()\n",
    "plt.show()"
   ],
   "id": "324a2b725f70aa7a",
   "outputs": [],
   "execution_count": null
  },
  {
   "metadata": {},
   "cell_type": "markdown",
   "source": "# String Cleaning 0 / 23",
   "id": "11c99e96a17aae0a"
  },
  {
   "metadata": {},
   "cell_type": "markdown",
   "source": "## Normal 0 / 18",
   "id": "7d357d0089f9e9bb"
  },
  {
   "metadata": {
    "ExecuteTime": {
     "end_time": "2024-05-16T00:04:09.318852Z",
     "start_time": "2024-05-16T00:04:09.311628Z"
    }
   },
   "cell_type": "code",
   "source": [
    "def step_1(interested_column):\n",
    "    print(df[interested_column])\n",
    "    missing_values_count = df[interested_column].isna().sum()\n",
    "    print(f'There are {missing_values_count} missing value(s) in the column {interested_column}')"
   ],
   "id": "274b8a97dcf39878",
   "outputs": [],
   "execution_count": 131
  },
  {
   "metadata": {},
   "cell_type": "markdown",
   "source": "### Unique value 0 / 7",
   "id": "8eb9ce30e185d138"
  },
  {
   "metadata": {},
   "cell_type": "markdown",
   "source": [
    "#### lastname ❌  \n",
    "typing errors (Ba+rett, Ev$ns…) + incomplete> remove special characters."
   ],
   "id": "6d609497f87a4e3b"
  },
  {
   "metadata": {
    "ExecuteTime": {
     "end_time": "2024-05-16T00:04:11.587004Z",
     "start_time": "2024-05-16T00:04:11.582531Z"
    }
   },
   "cell_type": "code",
   "source": "interested_column = 'lastname'",
   "id": "b748c611bd7ffb9",
   "outputs": [],
   "execution_count": 132
  },
  {
   "metadata": {
    "ExecuteTime": {
     "end_time": "2024-05-16T00:04:12.042722Z",
     "start_time": "2024-05-16T00:04:12.037670Z"
    }
   },
   "cell_type": "code",
   "source": "step_1(interested_column)",
   "id": "d35bce7fe47c59f5",
   "outputs": [
    {
     "name": "stdout",
     "output_type": "stream",
     "text": [
      "0        Figueroa\n",
      "1           Smith\n",
      "2       Nicholson\n",
      "3          Harvey\n",
      "4         Sanchez\n",
      "          ...    \n",
      "9995      Coleman\n",
      "9996        Dixon\n",
      "9997      V(zquez\n",
      "9998       Greene\n",
      "9999         Wolf\n",
      "Name: lastname, Length: 10000, dtype: object\n",
      "There are 0 missing value(s) in the column lastname\n"
     ]
    }
   ],
   "execution_count": 133
  },
  {
   "metadata": {
    "ExecuteTime": {
     "end_time": "2024-05-16T00:24:44.234388Z",
     "start_time": "2024-05-16T00:24:44.036177Z"
    }
   },
   "cell_type": "code",
   "source": [
    "def identify_inconsistencies(df):\n",
    "    inconsistency_types = {}\n",
    "    inconsistency_count = 0\n",
    "\n",
    "    # Regular expression pattern to match non-letter characters\n",
    "    pattern = re.compile(r'[^a-zA-Z]')\n",
    "\n",
    "    for index, row in df.iterrows():\n",
    "        lastname = row['lastname']\n",
    "        if re.search(pattern, lastname):\n",
    "            inconsistency = re.findall(pattern, lastname)\n",
    "            inconsistency = ''.join(inconsistency)\n",
    "            if inconsistency in inconsistency_types:\n",
    "                inconsistency_types[inconsistency] += 1\n",
    "            else:\n",
    "                inconsistency_types[inconsistency] = 1\n",
    "            inconsistency_count += 1\n",
    "\n",
    "    return inconsistency_types, inconsistency_count\n",
    "\n",
    "# Identify and count inconsistencies\n",
    "inconsistency_types, inconsistency_count = identify_inconsistencies(df)\n",
    "\n",
    "# Display the summary of inconsistencies\n",
    "print(\"Summary of inconsistencies:\")\n",
    "for inconsistency, count in inconsistency_types.items():\n",
    "    print(f\"Inconsistency '{inconsistency}': {count} occurrences\")\n",
    "print(\"Number of inconsistent last names:\", inconsistency_count)"
   ],
   "id": "d194f0d8332c0738",
   "outputs": [
    {
     "name": "stdout",
     "output_type": "stream",
     "text": [
      "Summary of inconsistencies:\n",
      "Inconsistency '`': 13 occurrences\n",
      "Inconsistency '}': 15 occurrences\n",
      "Inconsistency '~': 15 occurrences\n",
      "Inconsistency ',': 15 occurrences\n",
      "Inconsistency '^': 18 occurrences\n",
      "Inconsistency '!': 19 occurrences\n",
      "Inconsistency '*': 10 occurrences\n",
      "Inconsistency '<': 17 occurrences\n",
      "Inconsistency '#': 13 occurrences\n",
      "Inconsistency '%': 22 occurrences\n",
      "Inconsistency '?': 14 occurrences\n",
      "Inconsistency ''': 15 occurrences\n",
      "Inconsistency '\\\\': 19 occurrences\n",
      "Inconsistency ')': 11 occurrences\n",
      "Inconsistency '_': 16 occurrences\n",
      "Inconsistency '(': 17 occurrences\n",
      "Inconsistency '>': 18 occurrences\n",
      "Inconsistency ']': 16 occurrences\n",
      "Inconsistency '/': 26 occurrences\n",
      "Inconsistency ';': 13 occurrences\n",
      "Inconsistency '=': 14 occurrences\n",
      "Inconsistency '{': 14 occurrences\n",
      "Inconsistency '\"': 21 occurrences\n",
      "Inconsistency '[': 17 occurrences\n",
      "Inconsistency '-': 15 occurrences\n",
      "Inconsistency '@': 16 occurrences\n",
      "Inconsistency ':': 16 occurrences\n",
      "Inconsistency '.': 9 occurrences\n",
      "Inconsistency '+': 17 occurrences\n",
      "Inconsistency '&': 19 occurrences\n",
      "Inconsistency '|': 15 occurrences\n",
      "Inconsistency '$': 12 occurrences\n",
      "Number of inconsistent last names: 507\n"
     ]
    }
   ],
   "execution_count": 147
  },
  {
   "metadata": {
    "ExecuteTime": {
     "end_time": "2024-05-16T00:31:10.786152Z",
     "start_time": "2024-05-16T00:31:09.875189Z"
    }
   },
   "cell_type": "code",
   "source": "!pip install python-Levenshtein -q",
   "id": "5d00c2e6706bd5ba",
   "outputs": [
    {
     "name": "stdout",
     "output_type": "stream",
     "text": [
      "\r\n",
      "\u001B[1m[\u001B[0m\u001B[34;49mnotice\u001B[0m\u001B[1;39;49m]\u001B[0m\u001B[39;49m A new release of pip is available: \u001B[0m\u001B[31;49m23.2.1\u001B[0m\u001B[39;49m -> \u001B[0m\u001B[32;49m24.0\u001B[0m\r\n",
      "\u001B[1m[\u001B[0m\u001B[34;49mnotice\u001B[0m\u001B[1;39;49m]\u001B[0m\u001B[39;49m To update, run: \u001B[0m\u001B[32;49mpip install --upgrade pip\u001B[0m\r\n"
     ]
    }
   ],
   "execution_count": 152
  },
  {
   "metadata": {
    "ExecuteTime": {
     "end_time": "2024-05-16T01:02:54.546590Z",
     "start_time": "2024-05-16T01:01:07.986253Z"
    }
   },
   "cell_type": "code",
   "source": [
    "import pandas as pd\n",
    "from fuzzywuzzy import process\n",
    "import re\n",
    "\n",
    "def identify_inconsistencies(df):\n",
    "    inconsistencies = []\n",
    "    inconsistency_count = 0\n",
    "\n",
    "    # Regular expression pattern to match non-letter characters\n",
    "    pattern = re.compile(r'[^a-zA-Z]')\n",
    "\n",
    "    for index, row in df.iterrows():\n",
    "        lastname = row['lastname']\n",
    "        if re.search(pattern, lastname):\n",
    "            inconsistencies.append((index, lastname))\n",
    "            inconsistency_count += 1\n",
    "\n",
    "    return inconsistencies, inconsistency_count\n",
    "\n",
    "# Identify and count inconsistencies\n",
    "inconsistencies, inconsistency_count = identify_inconsistencies(df)\n",
    "\n",
    "# List of correct last names\n",
    "correct_lastnames = df[~df.index.isin([i[0] for i in inconsistencies])]['lastname'].tolist()\n",
    "\n",
    "# Function to infer correct last names and check for invalid characters\n",
    "def infer_correct_lastname(incorrect_lastname, correct_lastnames, pattern):\n",
    "    min_length = len(re.sub(pattern, '', incorrect_lastname)) + 1\n",
    "    filtered_names = [name for name in correct_lastnames if len(name) >= min_length]\n",
    "    closest_match, score = process.extractOne(incorrect_lastname, filtered_names)\n",
    "    if re.search(pattern, closest_match):\n",
    "        return None, closest_match, score\n",
    "    return closest_match, None, score\n",
    "\n",
    "# Apply inference to each incorrect last name\n",
    "inferred_lastnames = []\n",
    "names_without_match = []\n",
    "for index, row in df.iterrows():\n",
    "    lastname = row['lastname']\n",
    "    if index in [i[0] for i in inconsistencies]:  # Check if the last name is inconsistent\n",
    "        inferred_lastname, invalid, score = infer_correct_lastname(lastname, correct_lastnames, re.compile(r'[^a-zA-Z]'))\n",
    "        if inferred_lastname:\n",
    "            inferred_lastnames.append((index, lastname, inferred_lastname, invalid, score))\n",
    "        else:\n",
    "            names_without_match.append(lastname)\n",
    "\n",
    "# Display the inferred last names\n",
    "print(f\"The {len(inferred_lastnames)} Inferred Last Names:\")\n",
    "\n",
    "for index, incorrect, inferred, invalid, score in inferred_lastnames:\n",
    "    print(f\"Row {index}: {incorrect} -> {inferred} (Similarity Score: {score})\")\n",
    "\n",
    "# Print names without a match for manual inference\n",
    "print(\"Names without a match for manual inference:\")\n",
    "print(names_without_match)"
   ],
   "id": "70753c8fff8b87e3",
   "outputs": [
    {
     "name": "stdout",
     "output_type": "stream",
     "text": [
      "The 507 Inferred Last Names:\n",
      "Row 5: Peter`on -> Peterson (Similarity Score: 88)\n",
      "Row 62: Pet}rson -> Peterson (Similarity Score: 88)\n",
      "Row 75: Ly~ch -> Lynch (Similarity Score: 80)\n",
      "Row 146: G,orge -> George (Similarity Score: 83)\n",
      "Row 151: Garci^ -> Garcia (Similarity Score: 91)\n",
      "Row 157: Marshal! -> Marshall (Similarity Score: 93)\n",
      "Row 171: *oore -> Moore (Similarity Score: 89)\n",
      "Row 202: ~ohnson -> Johnson (Similarity Score: 92)\n",
      "Row 203: Vas<uez -> Vasquez (Similarity Score: 86)\n",
      "Row 230: St#wart -> Stewart (Similarity Score: 86)\n",
      "Row 286: Ba%rett -> Barrett (Similarity Score: 86)\n",
      "Row 313: ?hodes -> Rhodes (Similarity Score: 91)\n",
      "Row 323: B%own -> Brown (Similarity Score: 80)\n",
      "Row 360: 'eblanc -> Leblanc (Similarity Score: 92)\n",
      "Row 426: Valenc`a -> Valencia (Similarity Score: 88)\n",
      "Row 428: Reev\\\\s -> Reeves (Similarity Score: 79)\n",
      "Row 438: H~rnandez -> Hernandez (Similarity Score: 89)\n",
      "Row 439: )art -> Stewart (Similarity Score: 90)\n",
      "Row 440: J_rdan -> Jordan (Similarity Score: 83)\n",
      "Row 451: Parke_ -> Parker (Similarity Score: 83)\n",
      "Row 469: ~oung -> Young (Similarity Score: 89)\n",
      "Row 496: Hic~man -> Hickman (Similarity Score: 86)\n",
      "Row 503: (mith -> Smith (Similarity Score: 89)\n",
      "Row 573: He}nandez -> Hernandez (Similarity Score: 89)\n",
      "Row 592: Hu~ter -> Hunter (Similarity Score: 83)\n",
      "Row 617: Wal>on -> Walton (Similarity Score: 83)\n",
      "Row 631: >arris -> Harris (Similarity Score: 91)\n",
      "Row 693: Bri\\\\gs -> Briggs (Similarity Score: 79)\n",
      "Row 714: *revino -> Trevino (Similarity Score: 92)\n",
      "Row 734: *ennedy -> Kennedy (Similarity Score: 92)\n",
      "Row 745: W`ight -> Wright (Similarity Score: 83)\n",
      "Row 759: Pi^rce -> Pierce (Similarity Score: 83)\n",
      "Row 801: T}omas -> Thomas (Similarity Score: 83)\n",
      "Row 828: Mci]tosh -> Mcintosh (Similarity Score: 88)\n",
      "Row 885: Ham)ton -> Hampton (Similarity Score: 86)\n",
      "Row 946: /ean -> Mclean (Similarity Score: 90)\n",
      "Row 1007: Lop'z -> Lopez (Similarity Score: 80)\n",
      "Row 1055: T;an -> Tran (Similarity Score: 75)\n",
      "Row 1065: Mo<ris -> Morris (Similarity Score: 83)\n",
      "Row 1070: Fri=z -> Fritz (Similarity Score: 80)\n",
      "Row 1100: Fu'ler -> Fuller (Similarity Score: 83)\n",
      "Row 1132: Fitzpa,rick -> Fitzpatrick (Similarity Score: 91)\n",
      "Row 1171: K%dd -> Kidd (Similarity Score: 75)\n",
      "Row 1205: !spinoza -> Espinoza (Similarity Score: 93)\n",
      "Row 1206: Rey#olds -> Reynolds (Similarity Score: 88)\n",
      "Row 1222: Ric% -> Hendricks (Similarity Score: 90)\n",
      "Row 1242: Sa{ders -> Sanders (Similarity Score: 86)\n",
      "Row 1253: D\"vis -> Davis (Similarity Score: 80)\n",
      "Row 1264: Eva`s -> Evans (Similarity Score: 80)\n",
      "Row 1272: Le<is -> Lewis (Similarity Score: 80)\n",
      "Row 1295: Johnso[ -> Johnson (Similarity Score: 92)\n",
      "Row 1297: %ussell -> Russell (Similarity Score: 92)\n",
      "Row 1309: B{ady -> Brady (Similarity Score: 80)\n",
      "Row 1316: %hodes -> Rhodes (Similarity Score: 91)\n",
      "Row 1327: Ri>gs -> Riggs (Similarity Score: 80)\n",
      "Row 1346: Coff,y -> Coffey (Similarity Score: 83)\n",
      "Row 1371: Dia' -> Diaz (Similarity Score: 86)\n",
      "Row 1406: Le<ine -> Levine (Similarity Score: 83)\n",
      "Row 1419: Pric- -> Price (Similarity Score: 89)\n",
      "Row 1447: Mcd]niel -> Mcdaniel (Similarity Score: 88)\n",
      "Row 1460: Park@r -> Parker (Similarity Score: 83)\n",
      "Row 1493: Jo!nson -> Johnson (Similarity Score: 86)\n",
      "Row 1517: Gi(son -> Gibson (Similarity Score: 83)\n",
      "Row 1525: Ma,sey -> Massey (Similarity Score: 83)\n",
      "Row 1566: :ray -> Raymond (Similarity Score: 90)\n",
      "Row 1575: Gib%s -> Gibbs (Similarity Score: 80)\n",
      "Row 1588: Ri*era -> Rivera (Similarity Score: 83)\n",
      "Row 1619: Sim^son -> Simpson (Similarity Score: 86)\n",
      "Row 1690: Ke'ly -> Kelly (Similarity Score: 80)\n",
      "Row 1724: Joh:son -> Johnson (Similarity Score: 86)\n",
      "Row 1725: P%neda -> Pineda (Similarity Score: 83)\n",
      "Row 1734: Rive.a -> Rivera (Similarity Score: 83)\n",
      "Row 1753: ?erez -> Perez (Similarity Score: 89)\n",
      "Row 1757: `rown -> Browning (Similarity Score: 90)\n",
      "Row 1788: R=gers -> Rogers (Similarity Score: 83)\n",
      "Row 1813: ;ill -> Williams (Similarity Score: 90)\n",
      "Row 1824: <mith -> Smith (Similarity Score: 89)\n",
      "Row 1855: Nels]n -> Nelson (Similarity Score: 83)\n",
      "Row 1864: Buc#ley -> Buckley (Similarity Score: 86)\n",
      "Row 1878: H_rn -> Horn (Similarity Score: 75)\n",
      "Row 1886: Bra+ford -> Bradford (Similarity Score: 88)\n",
      "Row 1916: Ada+s -> Adams (Similarity Score: 80)\n",
      "Row 1932: J*hnston -> Johnston (Similarity Score: 88)\n",
      "Row 1960: J-ckson -> Jackson (Similarity Score: 86)\n",
      "Row 1961: N\"lson -> Nelson (Similarity Score: 83)\n",
      "Row 2012: Mo%ton -> Morton (Similarity Score: 83)\n",
      "Row 2071: M\\\\ra -> Mora (Similarity Score: 71)\n",
      "Row 2077: De&n -> Hayden (Similarity Score: 77)\n",
      "Row 2153: Su[ton -> Sutton (Similarity Score: 83)\n",
      "Row 2177: We(b -> Webb (Similarity Score: 75)\n",
      "Row 2200: Smit\\\\ -> Smith (Similarity Score: 89)\n",
      "Row 2204: G.rdner -> Gardner (Similarity Score: 86)\n",
      "Row 2264: \"cott -> Scott (Similarity Score: 89)\n",
      "Row 2280: Sanche% -> Sanchez (Similarity Score: 92)\n",
      "Row 2289: Ande&son -> Anderson (Similarity Score: 88)\n",
      "Row 2317: L/e -> Doyle (Similarity Score: 72)\n",
      "Row 2328: J(ckson -> Jackson (Similarity Score: 86)\n",
      "Row 2361: Pe%rson -> Pearson (Similarity Score: 86)\n",
      "Row 2372: K,m -> Kim (Similarity Score: 67)\n",
      "Row 2400: %eaver -> Weaver (Similarity Score: 91)\n",
      "Row 2403: Lev[ne -> Levine (Similarity Score: 83)\n",
      "Row 2405: Hayn{s -> Haynes (Similarity Score: 83)\n",
      "Row 2424: Alv&rez -> Alvarez (Similarity Score: 86)\n",
      "Row 2463: E@liott -> Elliott (Similarity Score: 86)\n",
      "Row 2473: Shann{n -> Shannon (Similarity Score: 86)\n",
      "Row 2488: Dia| -> Diaz (Similarity Score: 86)\n",
      "Row 2501: Moo+y -> Moody (Similarity Score: 80)\n",
      "Row 2519: W$ods -> Woods (Similarity Score: 80)\n",
      "Row 2557: Da\\\\is -> Davis (Similarity Score: 76)\n",
      "Row 2570: %harles -> Charles (Similarity Score: 92)\n",
      "Row 2578: Wi(son -> Wilson (Similarity Score: 83)\n",
      "Row 2579: S\\\\ow -> Snow (Similarity Score: 67)\n",
      "Row 2584: Buck=ey -> Buckley (Similarity Score: 86)\n",
      "Row 2593: /ill -> Williams (Similarity Score: 90)\n",
      "Row 2657: Ric%ards -> Richards (Similarity Score: 88)\n",
      "Row 2709: Mar\"in -> Martin (Similarity Score: 83)\n",
      "Row 2720: _all -> Hall (Similarity Score: 75)\n",
      "Row 2722: P/terson -> Peterson (Similarity Score: 88)\n",
      "Row 2723: +aker -> Whitaker (Similarity Score: 90)\n",
      "Row 2760: R|sso -> Russo (Similarity Score: 80)\n",
      "Row 2778: Mille? -> Miller (Similarity Score: 91)\n",
      "Row 2819: Hayde/ -> Hayden (Similarity Score: 91)\n",
      "Row 2863: And`rsen -> Andersen (Similarity Score: 88)\n",
      "Row 2865: Lindse\" -> Lindsey (Similarity Score: 92)\n",
      "Row 2873: Nguye@ -> Nguyen (Similarity Score: 91)\n",
      "Row 2885: Nor&an -> Norman (Similarity Score: 83)\n",
      "Row 2891: G\\\\rcia -> Garcia (Similarity Score: 79)\n",
      "Row 2919: Graha[ -> Graham (Similarity Score: 91)\n",
      "Row 2937: Sho.t -> Short (Similarity Score: 80)\n",
      "Row 2948: Be*l -> Bell (Similarity Score: 75)\n",
      "Row 2956: Ro.inson -> Robinson (Similarity Score: 88)\n",
      "Row 2975: Kelle[ -> Keller (Similarity Score: 91)\n",
      "Row 2987: Terre#l -> Terrell (Similarity Score: 86)\n",
      "Row 3021: Jackso# -> Jackson (Similarity Score: 92)\n",
      "Row 3073: Sull^van -> Sullivan (Similarity Score: 88)\n",
      "Row 3077: Bro\"n -> Brown (Similarity Score: 80)\n",
      "Row 3092: Bal#win -> Baldwin (Similarity Score: 86)\n",
      "Row 3107: Mck{y -> Mckay (Similarity Score: 80)\n",
      "Row 3141: G\\\\eene -> Greene (Similarity Score: 77)\n",
      "Row 3145: La&bert -> Lambert (Similarity Score: 86)\n",
      "Row 3149: Mo+re -> Moore (Similarity Score: 80)\n",
      "Row 3151: Herrin; -> Herring (Similarity Score: 92)\n",
      "Row 3171: N;al -> Neal (Similarity Score: 75)\n",
      "Row 3201: Ro*riguez -> Rodriguez (Similarity Score: 89)\n",
      "Row 3207: Ba%er -> Baker (Similarity Score: 80)\n",
      "Row 3217: B+ady -> Brady (Similarity Score: 80)\n",
      "Row 3249: Smi_h -> Smith (Similarity Score: 80)\n",
      "Row 3281: Johns{n -> Johnson (Similarity Score: 86)\n",
      "Row 3302: Pierc\" -> Pierce (Similarity Score: 91)\n",
      "Row 3304: Richard/ -> Richards (Similarity Score: 93)\n",
      "Row 3316: Heste? -> Hester (Similarity Score: 91)\n",
      "Row 3320: M^ore -> Moore (Similarity Score: 80)\n",
      "Row 3338: Harri=on -> Harrison (Similarity Score: 88)\n",
      "Row 3356: Mo|se -> Morse (Similarity Score: 80)\n",
      "Row 3366: San)ers -> Sanders (Similarity Score: 86)\n",
      "Row 3372: B!rtlett -> Martinez (Similarity Score: 38)\n",
      "Row 3378: S;lva -> Silva (Similarity Score: 80)\n",
      "Row 3392: Gome& -> Montgomery (Similarity Score: 90)\n",
      "Row 3432: Fran<is -> Francis (Similarity Score: 86)\n",
      "Row 3444: Saunder\" -> Saunders (Similarity Score: 93)\n",
      "Row 3492: Mor=is -> Morris (Similarity Score: 83)\n",
      "Row 3528: Bro/n -> Brown (Similarity Score: 80)\n",
      "Row 3538: Ort%ga -> Ortega (Similarity Score: 83)\n",
      "Row 3539: Lon} -> Malone (Similarity Score: 90)\n",
      "Row 3565: Schmi\\\\t -> Schmidt (Similarity Score: 82)\n",
      "Row 3649: Fe+nandez -> Fernandez (Similarity Score: 89)\n",
      "Row 3667: Lun= -> Luna (Similarity Score: 86)\n",
      "Row 3674: Estrad$ -> Estrada (Similarity Score: 92)\n",
      "Row 3675: Mon_gomery -> Montgomery (Similarity Score: 90)\n",
      "Row 3677: Robi>son -> Robinson (Similarity Score: 88)\n",
      "Row 3700: Br?oks -> Brooks (Similarity Score: 83)\n",
      "Row 3704: Le' -> Gonzalez (Similarity Score: 90)\n",
      "Row 3715: Rich[rds -> Richards (Similarity Score: 88)\n",
      "Row 3772: Casti&lo -> Castillo (Similarity Score: 88)\n",
      "Row 3795: Be&l -> Bell (Similarity Score: 75)\n",
      "Row 3823: !olmes -> Holmes (Similarity Score: 91)\n",
      "Row 3840: /rown -> Browning (Similarity Score: 90)\n",
      "Row 3857: +arris -> Harris (Similarity Score: 91)\n",
      "Row 3862: Willia}s -> Williams (Similarity Score: 88)\n",
      "Row 3870: C]nnon -> Cannon (Similarity Score: 83)\n",
      "Row 3886: Silv% -> Silva (Similarity Score: 89)\n",
      "Row 3891: Collin< -> Collins (Similarity Score: 92)\n",
      "Row 3916: :vila -> Davila (Similarity Score: 90)\n",
      "Row 3921: Br!oks -> Brooks (Similarity Score: 83)\n",
      "Row 3932: O\"om -> Odom (Similarity Score: 75)\n",
      "Row 3946: Rober+s -> Roberts (Similarity Score: 86)\n",
      "Row 3948: R~vera -> Rivera (Similarity Score: 83)\n",
      "Row 3958: Le# -> Gonzalez (Similarity Score: 90)\n",
      "Row 4002: Varg-s -> Vargas (Similarity Score: 83)\n",
      "Row 4003: ^ahoney -> Mahoney (Similarity Score: 92)\n",
      "Row 4007: Sex|on -> Sexton (Similarity Score: 83)\n",
      "Row 4032: >ynch -> Lynch (Similarity Score: 89)\n",
      "Row 4040: Ril-y -> Riley (Similarity Score: 80)\n",
      "Row 4044: /anchez -> Sanchez (Similarity Score: 92)\n",
      "Row 4066: G.mez -> Gomez (Similarity Score: 80)\n",
      "Row 4073: Nguy>n -> Nguyen (Similarity Score: 83)\n",
      "Row 4130: M/ller -> Miller (Similarity Score: 83)\n",
      "Row 4140: Cu@ningham -> Cunningham (Similarity Score: 90)\n",
      "Row 4190: Hunte[ -> Hunter (Similarity Score: 91)\n",
      "Row 4193: Edwar<s -> Edwards (Similarity Score: 86)\n",
      "Row 4228: /erez -> Perez (Similarity Score: 89)\n",
      "Row 4232: Ca%pbell -> Campbell (Similarity Score: 88)\n",
      "Row 4273: Campbe#l -> Campbell (Similarity Score: 88)\n",
      "Row 4308: Montgome~y -> Montgomery (Similarity Score: 90)\n",
      "Row 4353: Morale@ -> Morales (Similarity Score: 92)\n",
      "Row 4379: Mart,n -> Martin (Similarity Score: 83)\n",
      "Row 4383: Franc}s -> Francis (Similarity Score: 86)\n",
      "Row 4396: K/nnedy -> Kennedy (Similarity Score: 86)\n",
      "Row 4418: Sande?s -> Sanders (Similarity Score: 86)\n",
      "Row 4460: M]rtinez -> Martinez (Similarity Score: 88)\n",
      "Row 4488: Nel?on -> Nelson (Similarity Score: 83)\n",
      "Row 4549: H_well -> Howell (Similarity Score: 83)\n",
      "Row 4550: Le$ -> Gonzalez (Similarity Score: 90)\n",
      "Row 4563: Warne= -> Warner (Similarity Score: 91)\n",
      "Row 4571: Garci{ -> Garcia (Similarity Score: 91)\n",
      "Row 4572: Mc-ullough -> Mccullough (Similarity Score: 90)\n",
      "Row 4577: /artinez -> Martinez (Similarity Score: 93)\n",
      "Row 4599: Cunningha^ -> Cunningham (Similarity Score: 95)\n",
      "Row 4629: Oli+er -> Oliver (Similarity Score: 83)\n",
      "Row 4631: Flor#s -> Flores (Similarity Score: 83)\n",
      "Row 4642: Smit! -> Smith (Similarity Score: 89)\n",
      "Row 4650: Gonzal'z -> Gonzalez (Similarity Score: 88)\n",
      "Row 4658: Crawfo_d -> Crawford (Similarity Score: 88)\n",
      "Row 4668: Moor? -> Moore (Similarity Score: 89)\n",
      "Row 4704: ;vans -> Evans (Similarity Score: 89)\n",
      "Row 4734: ]illon -> Dillon (Similarity Score: 91)\n",
      "Row 4757: Rodrigue/ -> Rodriguez (Similarity Score: 94)\n",
      "Row 4760: Lawren:e -> Lawrence (Similarity Score: 88)\n",
      "Row 4774: )ohnson -> Johnson (Similarity Score: 92)\n",
      "Row 4789: S:eeney -> Sweeney (Similarity Score: 86)\n",
      "Row 4790: Bail@y -> Bailey (Similarity Score: 83)\n",
      "Row 4795: Patt,n -> Patton (Similarity Score: 83)\n",
      "Row 4796: Co@e -> Cole (Similarity Score: 75)\n",
      "Row 4808: Nels(n -> Nelson (Similarity Score: 83)\n",
      "Row 4814: G(een -> Green (Similarity Score: 80)\n",
      "Row 4817: R<ed -> Reed (Similarity Score: 75)\n",
      "Row 4871: Jua=ez -> Juarez (Similarity Score: 83)\n",
      "Row 4882: Payn} -> Payne (Similarity Score: 89)\n",
      "Row 4896: Thom!son -> Thompson (Similarity Score: 88)\n",
      "Row 4910: Campb`ll -> Campbell (Similarity Score: 88)\n",
      "Row 4920: [awkins -> Hawkins (Similarity Score: 92)\n",
      "Row 4930: Yo,ng -> Young (Similarity Score: 80)\n",
      "Row 4932: Swe\"ney -> Sweeney (Similarity Score: 86)\n",
      "Row 4934: W_ite -> White (Similarity Score: 80)\n",
      "Row 4948: An=hony -> Anthony (Similarity Score: 86)\n",
      "Row 4961: Scot> -> Scott (Similarity Score: 89)\n",
      "Row 4967: Loga& -> Logan (Similarity Score: 89)\n",
      "Row 4979: Smit& -> Smith (Similarity Score: 89)\n",
      "Row 5018: W!rren -> Warren (Similarity Score: 83)\n",
      "Row 5036: Lo{an -> Sloan (Similarity Score: 80)\n",
      "Row 5048: W\"lfe -> Wolfe (Similarity Score: 80)\n",
      "Row 5080: We;ls -> Wells (Similarity Score: 80)\n",
      "Row 5083: Fran,is -> Francis (Similarity Score: 86)\n",
      "Row 5101: Gu@rrero -> Guerrero (Similarity Score: 88)\n",
      "Row 5103: ~amora -> Zamora (Similarity Score: 91)\n",
      "Row 5105: Phil}ips -> Phillips (Similarity Score: 88)\n",
      "Row 5109: Harp-r -> Harper (Similarity Score: 83)\n",
      "Row 5133: Moo}e -> Moore (Similarity Score: 80)\n",
      "Row 5134: Wall: -> Wallace (Similarity Score: 90)\n",
      "Row 5157: Wa[d -> Ward (Similarity Score: 75)\n",
      "Row 5208: Castr, -> Castro (Similarity Score: 91)\n",
      "Row 5216: Jacks=n -> Jackson (Similarity Score: 86)\n",
      "Row 5259: Fisch@r -> Fischer (Similarity Score: 86)\n",
      "Row 5279: Ma{shall -> Marshall (Similarity Score: 88)\n",
      "Row 5366: Har[is -> Harris (Similarity Score: 83)\n",
      "Row 5383: Dav<s -> Davis (Similarity Score: 80)\n",
      "Row 5402: F!elds -> Fields (Similarity Score: 83)\n",
      "Row 5412: Moo,y -> Moody (Similarity Score: 80)\n",
      "Row 5447: @brien -> Obrien (Similarity Score: 91)\n",
      "Row 5461: Martin^z -> Martinez (Similarity Score: 88)\n",
      "Row 5488: Andrew' -> Andrews (Similarity Score: 92)\n",
      "Row 5553: Rio[ -> Rosario (Similarity Score: 90)\n",
      "Row 5567: -rtiz -> Ortiz (Similarity Score: 89)\n",
      "Row 5580: ,ooper -> Cooper (Similarity Score: 91)\n",
      "Row 5595: #dwards -> Edwards (Similarity Score: 92)\n",
      "Row 5598: Smi[h -> Smith (Similarity Score: 80)\n",
      "Row 5692: Joh:son -> Johnson (Similarity Score: 86)\n",
      "Row 5713: Brow/ -> Browning (Similarity Score: 90)\n",
      "Row 5735: Wa+d -> Ward (Similarity Score: 75)\n",
      "Row 5749: Fi~her -> Fisher (Similarity Score: 83)\n",
      "Row 5780: Steven|on -> Stevenson (Similarity Score: 89)\n",
      "Row 5781: Y\\\\ung -> Young (Similarity Score: 73)\n",
      "Row 5793: Par}er -> Parker (Similarity Score: 83)\n",
      "Row 5833: =ice -> Price (Similarity Score: 90)\n",
      "Row 5843: Le% -> Gonzalez (Similarity Score: 90)\n",
      "Row 5866: ]ee -> Wheeler (Similarity Score: 90)\n",
      "Row 5872: Dave}port -> Davenport (Similarity Score: 89)\n",
      "Row 5893: $unn -> Cunningham (Similarity Score: 90)\n",
      "Row 5895: Br;dley -> Bradley (Similarity Score: 86)\n",
      "Row 5944: Walla(e -> Wallace (Similarity Score: 86)\n",
      "Row 5957: Frazi^r -> Frazier (Similarity Score: 86)\n",
      "Row 5974: B]andt -> Brandt (Similarity Score: 83)\n",
      "Row 6018: Mcd\"nald -> Mcdonald (Similarity Score: 88)\n",
      "Row 6051: Ca~pos -> Campos (Similarity Score: 83)\n",
      "Row 6078: Wis( -> Lewis (Similarity Score: 90)\n",
      "Row 6085: Dors,y -> Dorsey (Similarity Score: 83)\n",
      "Row 6153: S>ith -> Smith (Similarity Score: 80)\n",
      "Row 6164: M^kinney -> Mckinney (Similarity Score: 88)\n",
      "Row 6177: ]oy -> Moyer (Similarity Score: 90)\n",
      "Row 6186: Mah-ney -> Mahoney (Similarity Score: 86)\n",
      "Row 6212: R&mero -> Romero (Similarity Score: 83)\n",
      "Row 6231: Lloy( -> Lloyd (Similarity Score: 89)\n",
      "Row 6238: Gonzal`z -> Gonzalez (Similarity Score: 88)\n",
      "Row 6239: !arrett -> Barrett (Similarity Score: 92)\n",
      "Row 6265: Abbo~t -> Abbott (Similarity Score: 83)\n",
      "Row 6397: Peterso/ -> Peterson (Similarity Score: 93)\n",
      "Row 6411: Ander@on -> Anderson (Similarity Score: 88)\n",
      "Row 6422: ^ichols -> Nichols (Similarity Score: 92)\n",
      "Row 6477: <ummings -> Cummings (Similarity Score: 93)\n",
      "Row 6495: Vas!uez -> Vasquez (Similarity Score: 86)\n",
      "Row 6583: Johnso] -> Johnson (Similarity Score: 92)\n",
      "Row 6616: \\\\tone -> Stone (Similarity Score: 89)\n",
      "Row 6655: 'ose -> Joseph (Similarity Score: 90)\n",
      "Row 6676: Robe<ts -> Roberts (Similarity Score: 86)\n",
      "Row 6746: Youn$ -> Young (Similarity Score: 89)\n",
      "Row 6749: Sch-idt -> Schmidt (Similarity Score: 86)\n",
      "Row 6757: ]ross -> Cross (Similarity Score: 89)\n",
      "Row 6773: Sma_l -> Small (Similarity Score: 80)\n",
      "Row 6777: Mo}ales -> Morales (Similarity Score: 86)\n",
      "Row 6812: Sher%an -> Sherman (Similarity Score: 86)\n",
      "Row 6834: Ne'l -> Neal (Similarity Score: 75)\n",
      "Row 6848: B:own -> Brown (Similarity Score: 80)\n",
      "Row 6901: Bro)n -> Brown (Similarity Score: 80)\n",
      "Row 6915: Garci^ -> Garcia (Similarity Score: 91)\n",
      "Row 6929: Cur{is -> Curtis (Similarity Score: 83)\n",
      "Row 6931: W\"bb -> Webb (Similarity Score: 75)\n",
      "Row 6932: Mcc@ain -> Mcclain (Similarity Score: 86)\n",
      "Row 6955: +dwards -> Edwards (Similarity Score: 92)\n",
      "Row 6977: Willi\"ms -> Williams (Similarity Score: 88)\n",
      "Row 6988: Browni&g -> Browning (Similarity Score: 88)\n",
      "Row 7017: {ray -> Raymond (Similarity Score: 90)\n",
      "Row 7032: Gr%en -> Green (Similarity Score: 80)\n",
      "Row 7042: Smit> -> Smith (Similarity Score: 89)\n",
      "Row 7067: Coffe$ -> Coffey (Similarity Score: 91)\n",
      "Row 7073: S+nchez -> Sanchez (Similarity Score: 86)\n",
      "Row 7090: B^rns -> Burns (Similarity Score: 80)\n",
      "Row 7095: +homas -> Thomas (Similarity Score: 91)\n",
      "Row 7139: G:mez -> Gomez (Similarity Score: 80)\n",
      "Row 7164: |ice -> Price (Similarity Score: 90)\n",
      "Row 7178: Jon[s -> Jones (Similarity Score: 80)\n",
      "Row 7235: 'ullivan -> Sullivan (Similarity Score: 93)\n",
      "Row 7260: Mille: -> Miller (Similarity Score: 91)\n",
      "Row 7296: @llen -> Mullen (Similarity Score: 90)\n",
      "Row 7334: O/r -> Taylor (Similarity Score: 72)\n",
      "Row 7350: Vazq]ez -> Vazquez (Similarity Score: 86)\n",
      "Row 7358: *orton -> Horton (Similarity Score: 91)\n",
      "Row 7361: Mor*n -> Moran (Similarity Score: 80)\n",
      "Row 7368: Mitchel- -> Mitchell (Similarity Score: 93)\n",
      "Row 7437: S}ith -> Smith (Similarity Score: 80)\n",
      "Row 7444: Leo&ard -> Leonard (Similarity Score: 86)\n",
      "Row 7474: A:drade -> Andrade (Similarity Score: 86)\n",
      "Row 7497: ?astro -> Castro (Similarity Score: 91)\n",
      "Row 7502: Brow| -> Browning (Similarity Score: 90)\n",
      "Row 7539: Ea<on -> Eaton (Similarity Score: 80)\n",
      "Row 7541: `ena -> Cardenas (Similarity Score: 90)\n",
      "Row 7565: W/ber -> Weber (Similarity Score: 80)\n",
      "Row 7567: ^arks -> Sparks (Similarity Score: 90)\n",
      "Row 7570: Kenned| -> Kennedy (Similarity Score: 92)\n",
      "Row 7573: A.ams -> Adams (Similarity Score: 80)\n",
      "Row 7588: Calhou& -> Calhoun (Similarity Score: 92)\n",
      "Row 7591: >mith -> Smith (Similarity Score: 89)\n",
      "Row 7594: Youn# -> Young (Similarity Score: 89)\n",
      "Row 7604: Mil[er -> Miller (Similarity Score: 83)\n",
      "Row 7645: Philli\"s -> Phillips (Similarity Score: 88)\n",
      "Row 7650: F\\\\ster -> Foster (Similarity Score: 79)\n",
      "Row 7666: Tayl~r -> Taylor (Similarity Score: 83)\n",
      "Row 7701: Mill}r -> Miller (Similarity Score: 83)\n",
      "Row 7712: Terr\\\\ -> Terrell (Similarity Score: 90)\n",
      "Row 7732: Robi>son -> Robinson (Similarity Score: 88)\n",
      "Row 7758: Par> -> Parker (Similarity Score: 90)\n",
      "Row 7763: Clar^ -> Clarke (Similarity Score: 90)\n",
      "Row 7785: Mcla_ghlin -> Mclaughlin (Similarity Score: 90)\n",
      "Row 7900: Ch|vez -> Chavez (Similarity Score: 83)\n",
      "Row 7935: Phil]ips -> Phillips (Similarity Score: 88)\n",
      "Row 7990: B]nton -> Benton (Similarity Score: 83)\n",
      "Row 8006: B/cker -> Becker (Similarity Score: 83)\n",
      "Row 8034: Wat|on -> Watson (Similarity Score: 83)\n",
      "Row 8036: M(rtinez -> Martinez (Similarity Score: 88)\n",
      "Row 8037: Littl` -> Little (Similarity Score: 91)\n",
      "Row 8055: E\"ickson -> Erickson (Similarity Score: 88)\n",
      "Row 8083: Ayer; -> Mayer (Similarity Score: 89)\n",
      "Row 8095: Nguy_n -> Nguyen (Similarity Score: 83)\n",
      "Row 8099: |ilson -> Wilson (Similarity Score: 91)\n",
      "Row 8133: !rown -> Browning (Similarity Score: 90)\n",
      "Row 8134: H;rris -> Harris (Similarity Score: 83)\n",
      "Row 8138: $ohnson -> Johnson (Similarity Score: 92)\n",
      "Row 8145: El:is -> Ellis (Similarity Score: 80)\n",
      "Row 8151: Je-kins -> Jenkins (Similarity Score: 86)\n",
      "Row 8157: 'arner -> Warner (Similarity Score: 91)\n",
      "Row 8185: Ir\\\\in -> Ingram (Similarity Score: 52)\n",
      "Row 8201: B/nd -> Bond (Similarity Score: 75)\n",
      "Row 8228: Barke\" -> Barker (Similarity Score: 91)\n",
      "Row 8234: Fowle_ -> Fowler (Similarity Score: 83)\n",
      "Row 8238: Mar[inez -> Martinez (Similarity Score: 88)\n",
      "Row 8240: Sho\"t -> Short (Similarity Score: 80)\n",
      "Row 8250: M%ers -> Myers (Similarity Score: 80)\n",
      "Row 8261: H`ang -> Chang (Similarity Score: 80)\n",
      "Row 8272: Jac<son -> Jackson (Similarity Score: 86)\n",
      "Row 8276: Harri+ -> Harris (Similarity Score: 91)\n",
      "Row 8297: C=rtis -> Curtis (Similarity Score: 83)\n",
      "Row 8314: Smi_h -> Smith (Similarity Score: 80)\n",
      "Row 8344: Perk?ns -> Perkins (Similarity Score: 86)\n",
      "Row 8376: Ree< -> Freeman (Similarity Score: 90)\n",
      "Row 8390: P{terson -> Peterson (Similarity Score: 88)\n",
      "Row 8394: Chris!ensen -> Christensen (Similarity Score: 91)\n",
      "Row 8424: R;os -> Cisneros (Similarity Score: 77)\n",
      "Row 8430: T?ylor -> Taylor (Similarity Score: 83)\n",
      "Row 8436: Will`ams -> Williams (Similarity Score: 88)\n",
      "Row 8438: V(rgas -> Vargas (Similarity Score: 83)\n",
      "Row 8450: [amirez -> Ramirez (Similarity Score: 92)\n",
      "Row 8470: Ben@er -> Bender (Similarity Score: 83)\n",
      "Row 8481: R_binson -> Robinson (Similarity Score: 88)\n",
      "Row 8491: -opez -> Lopez (Similarity Score: 89)\n",
      "Row 8510: Br-wn -> Brown (Similarity Score: 80)\n",
      "Row 8517: Tayl\\\\r -> Taylor (Similarity Score: 77)\n",
      "Row 8519: H[ath -> Heath (Similarity Score: 80)\n",
      "Row 8524: Mar:h -> Marsh (Similarity Score: 80)\n",
      "Row 8544: Oc/nnor -> Oconnor (Similarity Score: 86)\n",
      "Row 8550: Pa>k -> Park (Similarity Score: 75)\n",
      "Row 8553: Cam|bell -> Campbell (Similarity Score: 88)\n",
      "Row 8563: Aria< -> Arias (Similarity Score: 89)\n",
      "Row 8608: .onzales -> Gonzales (Similarity Score: 93)\n",
      "Row 8613: B>rrett -> Barrett (Similarity Score: 86)\n",
      "Row 8621: Scot, -> Scott (Similarity Score: 89)\n",
      "Row 8646: And/rson -> Anderson (Similarity Score: 88)\n",
      "Row 8655: Ad/ms -> Adams (Similarity Score: 80)\n",
      "Row 8658: (tone -> Stone (Similarity Score: 89)\n",
      "Row 8679: Dav=s -> Davis (Similarity Score: 80)\n",
      "Row 8683: Gal\\\\an -> Galvan (Similarity Score: 77)\n",
      "Row 8695: Gri+fin -> Griffin (Similarity Score: 86)\n",
      "Row 8724: D\"vis -> Davis (Similarity Score: 80)\n",
      "Row 8755: $radley -> Bradley (Similarity Score: 92)\n",
      "Row 8770: H&ll -> Hill (Similarity Score: 75)\n",
      "Row 8836: P&rry -> Perry (Similarity Score: 80)\n",
      "Row 8849: #ewis -> Lewis (Similarity Score: 89)\n",
      "Row 8854: K/ight -> Knight (Similarity Score: 83)\n",
      "Row 8856: (eyes -> Reyes (Similarity Score: 89)\n",
      "Row 8862: H)nton -> Hinton (Similarity Score: 83)\n",
      "Row 8864: G!ay -> Gray (Similarity Score: 75)\n",
      "Row 8869: <lark -> Clarke (Similarity Score: 90)\n",
      "Row 8871: Daven!ort -> Davenport (Similarity Score: 89)\n",
      "Row 8879: Ericks)n -> Erickson (Similarity Score: 88)\n",
      "Row 8910: Mclaughli: -> Mclaughlin (Similarity Score: 95)\n",
      "Row 8939: Bo'd -> Bond (Similarity Score: 75)\n",
      "Row 8949: Rami#ez -> Ramirez (Similarity Score: 86)\n",
      "Row 8955: Ful\"er -> Fuller (Similarity Score: 83)\n",
      "Row 8963: Bake{ -> Baker (Similarity Score: 89)\n",
      "Row 8967: Pate? -> Patel (Similarity Score: 89)\n",
      "Row 8998: Youn> -> Young (Similarity Score: 89)\n",
      "Row 9012: Mullin] -> Mullins (Similarity Score: 92)\n",
      "Row 9020: ~wen -> Owens (Similarity Score: 90)\n",
      "Row 9022: Doughe$ty -> Dougherty (Similarity Score: 89)\n",
      "Row 9049: Jon\"s -> Jones (Similarity Score: 80)\n",
      "Row 9054: Ja|kson -> Jackson (Similarity Score: 86)\n",
      "Row 9065: T/ylor -> Taylor (Similarity Score: 83)\n",
      "Row 9072: Murph& -> Murphy (Similarity Score: 91)\n",
      "Row 9083: S(aw -> Shaw (Similarity Score: 75)\n",
      "Row 9090: C_rter -> Carter (Similarity Score: 83)\n",
      "Row 9122: S@hroeder -> Schroeder (Similarity Score: 89)\n",
      "Row 9123: >eyes -> Reyes (Similarity Score: 89)\n",
      "Row 9132: Wi?ters -> Winters (Similarity Score: 86)\n",
      "Row 9146: Dav-s -> Davis (Similarity Score: 80)\n",
      "Row 9156: Parr)sh -> Parrish (Similarity Score: 86)\n",
      "Row 9161: Richa&dson -> Richardson (Similarity Score: 90)\n",
      "Row 9196: Whit{ -> Whitney (Similarity Score: 90)\n",
      "Row 9226: Garc=a -> Garcia (Similarity Score: 83)\n",
      "Row 9228: Mille@ -> Miller (Similarity Score: 91)\n",
      "Row 9275: !unt -> Hunter (Similarity Score: 90)\n",
      "Row 9284: J$mes -> James (Similarity Score: 80)\n",
      "Row 9367: Zam^ra -> Zamora (Similarity Score: 83)\n",
      "Row 9391: Gille'pie -> Gillespie (Similarity Score: 89)\n",
      "Row 9428: B!nks -> Banks (Similarity Score: 80)\n",
      "Row 9446: Ma)on -> Mason (Similarity Score: 80)\n",
      "Row 9484: Wa]son -> Watson (Similarity Score: 83)\n",
      "Row 9486: Bax.er -> Baxter (Similarity Score: 83)\n",
      "Row 9488: Ha(l -> Hall (Similarity Score: 75)\n",
      "Row 9504: `chmidt -> Schmidt (Similarity Score: 92)\n",
      "Row 9543: Lawre/ce -> Lawrence (Similarity Score: 88)\n",
      "Row 9546: Ho;kins -> Hopkins (Similarity Score: 86)\n",
      "Row 9547: Gar^ia -> Garcia (Similarity Score: 83)\n",
      "Row 9559: Jone$ -> Jones (Similarity Score: 89)\n",
      "Row 9570: K|ng -> King (Similarity Score: 75)\n",
      "Row 9620: Dickers)n -> Dickerson (Similarity Score: 89)\n",
      "Row 9628: Per+ins -> Perkins (Similarity Score: 86)\n",
      "Row 9671: Robb:ns -> Robbins (Similarity Score: 86)\n",
      "Row 9682: Jo\\\\es -> Jones (Similarity Score: 73)\n",
      "Row 9695: >guyen -> Nguyen (Similarity Score: 91)\n",
      "Row 9718: Jame\\\\ -> James (Similarity Score: 89)\n",
      "Row 9730: Kel>ey -> Kelley (Similarity Score: 83)\n",
      "Row 9731: Phil-ips -> Phillips (Similarity Score: 88)\n",
      "Row 9745: Carte$ -> Carter (Similarity Score: 91)\n",
      "Row 9754: &owen -> Owens (Similarity Score: 89)\n",
      "Row 9755: )oster -> Foster (Similarity Score: 91)\n",
      "Row 9771: R:ce -> Pierce (Similarity Score: 77)\n",
      "Row 9807: Cro~s -> Cross (Similarity Score: 80)\n",
      "Row 9824: Litt,e -> Little (Similarity Score: 83)\n",
      "Row 9835: Cha*bers -> Chambers (Similarity Score: 88)\n",
      "Row 9837: Watso} -> Watson (Similarity Score: 91)\n",
      "Row 9859: El.is -> Ellis (Similarity Score: 80)\n",
      "Row 9862: Hil' -> Phillips (Similarity Score: 90)\n",
      "Row 9870: S?oan -> Sloan (Similarity Score: 80)\n",
      "Row 9902: Wilso; -> Wilson (Similarity Score: 91)\n",
      "Row 9957: Won| -> Wong (Similarity Score: 86)\n",
      "Row 9966: Orteg\\\\ -> Ortega (Similarity Score: 91)\n",
      "Row 9969: !raham -> Graham (Similarity Score: 91)\n",
      "Row 9976: Ho^se -> House (Similarity Score: 80)\n",
      "Row 9997: V(zquez -> Vazquez (Similarity Score: 86)\n",
      "Names without a match for manual inference:\n",
      "[]\n"
     ]
    }
   ],
   "execution_count": 173
  },
  {
   "metadata": {},
   "cell_type": "markdown",
   "source": [
    "#### firstname ❌\n",
    "typing errors with spaces (L   sa, Ell   n…) > remove spaces and add letter (names library)."
   ],
   "id": "743fc64ecd9a61bf"
  },
  {
   "metadata": {},
   "cell_type": "markdown",
   "source": [
    "#### firstname_mother ❌  \n",
    " typing errors (Juâ€‹ie, Laâ€‹ra…)"
   ],
   "id": "3a18cf72a465d953"
  },
  {
   "metadata": {},
   "cell_type": "markdown",
   "source": [
    "#### firstname_father ❌\n",
    " Incomplete words (Jcob, onald…) + 92 missing values."
   ],
   "id": "84ddd305ddf64126"
  },
  {
   "metadata": {},
   "cell_type": "markdown",
   "source": [
    "#### description ❌  \n",
    "?"
   ],
   "id": "259c500ba76b9c76"
  },
  {
   "metadata": {},
   "cell_type": "markdown",
   "source": [
    "#### inquiry ❌  \n",
    "?"
   ],
   "id": "e7b081d7d3b09671"
  },
  {
   "metadata": {},
   "cell_type": "markdown",
   "source": [
    "#### address ❌  \n",
    "?"
   ],
   "id": "7d75ff51e9e2e3ed"
  },
  {
   "metadata": {},
   "cell_type": "markdown",
   "source": "### Categorical 0 / 7",
   "id": "90aeffa06152373d"
  },
  {
   "metadata": {},
   "cell_type": "markdown",
   "source": [
    "#### prefix ❌  \n",
    "the prefix are not always well suited to the user.\n"
   ],
   "id": "8e1e80f3fbdbc4be"
  },
  {
   "metadata": {},
   "cell_type": "code",
   "outputs": [
    {
     "data": {
      "text/plain": [
       "<Figure size 1000x600 with 1 Axes>"
      ],
      "image/png": "[encoded data removed]"
     },
     "metadata": {},
     "output_type": "display_data"
    },
    {
     "name": "stdout",
     "output_type": "stream",
     "text": [
      "8\n"
     ]
    }
   ],
   "execution_count": 72,
   "source": [
    "column_name = 'prefix'\n",
    "\n",
    "unique_values_distribution = df[column_name].value_counts()\n",
    "\n",
    "# Plot the distribution of unique values\n",
    "plt.figure(figsize=(10, 6))\n",
    "unique_values_distribution.plot(kind='bar')\n",
    "plt.title('Distribution of Unique Values in Column \"{}\"'.format(column_name))\n",
    "plt.xlabel('Unique Values')\n",
    "plt.ylabel('Count')\n",
    "plt.xticks(rotation=45)\n",
    "plt.grid(axis='y', linestyle='--', alpha=0.7)\n",
    "plt.tight_layout()\n",
    "plt.show()\n",
    "\n",
    "print(len(unique_values_distribution.index))"
   ],
   "id": "7ca154932a8556e0"
  },
  {
   "metadata": {},
   "cell_type": "markdown",
   "source": [
    "#### city ❌\n",
    "?"
   ],
   "id": "ee7f2abf4b008534"
  },
  {
   "metadata": {},
   "cell_type": "markdown",
   "source": [
    "#### country ❌  \n",
    "?  \n",
    "(some names are to long like “British Indian Ocean Territory (Chagos Archipelago)”, “holy see (vatican city)”, “Slovakia (Slovak Republic)”)"
   ],
   "id": "5444e51a851c1c9c"
  },
  {
   "metadata": {},
   "cell_type": "markdown",
   "source": [
    "#### android_platform ❌  \n",
    "maybe android is repeated ? (it ranges from 1 to 9 and ?)"
   ],
   "id": "18d4158d3bf9a7f8"
  },
  {
   "metadata": {},
   "cell_type": "markdown",
   "source": [
    "#### user_agent ❌  \n",
    "some feld have “PWNED” added randomly"
   ],
   "id": "e06a54b62e26ecb7"
  },
  {
   "metadata": {},
   "cell_type": "markdown",
   "source": [
    "#### customer_segment_code ❌  \n",
    "992 missing values"
   ],
   "id": "f7a3e6579b4f3806"
  },
  {
   "metadata": {},
   "cell_type": "markdown",
   "source": [
    "#### customer_market_code ❌  \n",
    " 1141 missing values and nonsense."
   ],
   "id": "67cb21cb18cb1004"
  },
  {
   "metadata": {},
   "cell_type": "markdown",
   "source": "### Email 0 / 4",
   "id": "e6fdbf877afae2df"
  },
  {
   "metadata": {},
   "cell_type": "markdown",
   "source": [
    "#### email_personnal ❌  \n",
    "some unexpected characters ex:(hollybailey@example..org)."
   ],
   "id": "2d4d790a77e2c553"
  },
  {
   "metadata": {},
   "cell_type": "markdown",
   "source": [
    "#### email_sso ❌  \n",
    "unexpected characters ex:(paulthornton@example.Œ≥rg or craigrobe‚Ä¢ts@example.com)."
   ],
   "id": "88671b4121f4cfbb"
  },
  {
   "metadata": {},
   "cell_type": "markdown",
   "source": [
    "#### email_vpn ❌  \n",
    "unexpected characters at the end of the email adresse (​​douglasjohn@yahoo.comhg)."
   ],
   "id": "80193b2dc70e0760"
  },
  {
   "metadata": {},
   "cell_type": "markdown",
   "source": [
    "#### email_work ❌  \n",
    "some unexpected characters ex:(jason72@!dwards-butler.info)"
   ],
   "id": "f1b7d313ba18e3ba"
  },
  {
   "metadata": {},
   "cell_type": "markdown",
   "source": "### Hardest - 0 / 5",
   "id": "e633f5f784f617ac"
  },
  {
   "metadata": {},
   "cell_type": "markdown",
   "source": [
    "#### blog_url ❌ url  \n",
    "?"
   ],
   "id": "c13edaf35c3d306b"
  },
  {
   "metadata": {},
   "cell_type": "markdown",
   "source": [
    "#### customer_uid ❌hexadecimal  \n",
    "There doesn't seem to be any inherent issue with this string as a UID. However, depending on the context in which it's used, there are a few considerations:  \n",
    "Uniqueness: UUIDs are typically used to uniquely identify entities. Ensure that this UUID is generated using a method that guarantees uniqueness within the intended scope (e.g., globally unique for UUIDv4).  \n",
    "length: UUIDs are usually 128 bits or 32 hexadecimal characters long (excluding hyphens if present). This one seems to be of the correct length.  \n",
    "Representation: Make sure the UUID is properly represented and stored in whatever system or database it's used in. For example, it might be stored as a string or a binary value depending on the requirements.  "
   ],
   "id": "76b6f9ae2f6305c"
  },
  {
   "metadata": {},
   "cell_type": "markdown",
   "source": [
    "#### xml_authent_token ❌ xml code  \n",
    "?"
   ],
   "id": "5254cd0c16a8e6fe"
  },
  {
   "metadata": {},
   "cell_type": "markdown",
   "source": [
    "#### profile_json ❌ json code  \n",
    "?"
   ],
   "id": "58d1cc1d6739b9f6"
  },
  {
   "metadata": {},
   "cell_type": "markdown",
   "source": [
    "#### cia_info_json ❌ json code  \n",
    "?"
   ],
   "id": "f9e430caebd1b1ae"
  },
  {
   "metadata": {},
   "cell_type": "markdown",
   "source": "# Date 0 / 6",
   "id": "f2b4b32f887e9520"
  },
  {
   "metadata": {},
   "cell_type": "markdown",
   "source": [
    "#### dob ❌  \n",
    "variation in date structure (10/7/2003 or 1987-03-58) > choose one + Customer that have more than 100 yo."
   ],
   "id": "22b5247b24941b77"
  },
  {
   "metadata": {},
   "cell_type": "markdown",
   "source": [
    "#### account_creation_date ❌  \n",
    " variation in date structure (9/21/2000 or 1999-02-29) > choose 1."
   ],
   "id": "c3707f617df59210"
  },
  {
   "metadata": {},
   "cell_type": "markdown",
   "source": [
    "#### last_transaction_date ❌  \n",
    " hours sometimes added at the end (1/1/1970 0:00) + older than creation date ?"
   ],
   "id": "d5b6c28692489913"
  },
  {
   "metadata": {},
   "cell_type": "markdown",
   "source": [
    "#### account_resiliation_date ❌  \n",
    "?  \n",
    "resiliation_date before creation_date ?"
   ],
   "id": "cb6deef9cbac7a2b"
  },
  {
   "metadata": {},
   "cell_type": "markdown",
   "source": [
    "#### first_contact_date ❌  \n",
    "inverted value between first_contact_date and last_contact_date ex: ( 02/10/1998 in first_contact_date and 12/08/1993 in last_contact_date)  "
   ],
   "id": "bb0092f1eb50f742"
  },
  {
   "metadata": {},
   "cell_type": "markdown",
   "source": [
    "#### last_contact_date ❌  \n",
    "**09**/**16**/1971 instead of **16**/**09**/1971. "
   ],
   "id": "6401a5f2493abc53"
  },
  {
   "metadata": {},
   "cell_type": "markdown",
   "source": "# Number 0 / 16",
   "id": "298f22c97e9baa95"
  },
  {
   "metadata": {},
   "cell_type": "markdown",
   "source": "## Float 0 / 5",
   "id": "1c13fc6bf15fede3"
  },
  {
   "metadata": {},
   "cell_type": "markdown",
   "source": "### Coordinate 0 / 3",
   "id": "8a2b9a28bf26e1de"
  },
  {
   "metadata": {},
   "cell_type": "markdown",
   "source": [
    "#### latlon_home ❌  \n",
    "(Decimal('-29.146587'), Decimal('-69.661657')) instead of -29.146587 latitude and -69.661657 longitude  \n",
    "default value at (90, 0)  \n",
    "float:  \n",
    "lat -90 to 90  \n",
    "long -180 to 180  "
   ],
   "id": "d0ea9a66109fb17a"
  },
  {
   "metadata": {},
   "cell_type": "markdown",
   "source": [
    "#### latlon_work ❌  \n",
    "same as latlon_home except for the default coordinate being at (-27.26765, 79.60243)  \n",
    "float:  \n",
    "lat -90 to 90  \n",
    "long -180 to 180  "
   ],
   "id": "9b61aa82b5e69ff1"
  },
  {
   "metadata": {},
   "cell_type": "markdown",
   "source": [
    "#### x35_bank_branch ❌  \n",
    "coordonate out of range ex: ((Decimal('99.108555'), Decimal('-30.3705825'))  \n",
    "float:  \n",
    "lat -90 to 90  \n",
    "long -180 to 180  "
   ],
   "id": "7f699c041a2bc300"
  },
  {
   "metadata": {},
   "cell_type": "markdown",
   "source": "## Other 0 / 2",
   "id": "95ce6c99cf49b30"
  },
  {
   "metadata": {},
   "cell_type": "markdown",
   "source": [
    "#### credit_card_score ❌  \n",
    "?"
   ],
   "id": "2280dbeb01b80471"
  },
  {
   "metadata": {},
   "cell_type": "markdown",
   "source": [
    "#### shoe_size ❌  \n",
    "values are too precise like 41,3812748610831 and needs to be rounded to 41,5 in that case. float (with only one precision .5)"
   ],
   "id": "5f9b287a6e51e94"
  },
  {
   "metadata": {},
   "cell_type": "markdown",
   "source": "## Integer 0 / 11",
   "id": "5df7e538e5622d31"
  },
  {
   "metadata": {},
   "cell_type": "markdown",
   "source": "### Pur Integer 0 / 9",
   "id": "562a20c489a59e3b"
  },
  {
   "metadata": {},
   "cell_type": "markdown",
   "source": [
    "#### salary ❌  \n",
    " there is an odd jump from 24999 to 165198,70230679."
   ],
   "id": "3a5b77cfb11bac5b"
  },
  {
   "metadata": {},
   "cell_type": "markdown",
   "source": [
    "#### first_salary ❌  \n",
    "it ranges from ​​-1525444,1901449 to normal values"
   ],
   "id": "609c50f17c6de3cb"
  },
  {
   "metadata": {},
   "cell_type": "markdown",
   "source": [
    "#### taxable_income ❌  \n",
    "from -22811 to normal."
   ],
   "id": "c214dfa8429f497b"
  },
  {
   "metadata": {},
   "cell_type": "markdown",
   "source": [
    "#### transaction_amount ❌  \n",
    "some values seem to be shifted from 1 digit 2,992"
   ],
   "id": "9f899b005ca1a4b7"
  },
  {
   "metadata": {},
   "cell_type": "markdown",
   "source": [
    "#### credit_card_number ❌  \n",
    "some cards have missing digits. integer (16 digits)"
   ],
   "id": "867f934d6e75768b"
  },
  {
   "metadata": {},
   "cell_type": "markdown",
   "source": [
    "#### weight ❌  \n",
    " some really low values like 0,0118407752664808 which might be due to slippage and will need to be 118,4077 also there is no need to be that precise, 118 is enough. "
   ],
   "id": "d6f5ff45b56260ea"
  },
  {
   "metadata": {},
   "cell_type": "markdown",
   "source": [
    "#### height ❌  \n",
    "to high values 401,40395651984."
   ],
   "id": "74d103d6bae9ea9a"
  },
  {
   "metadata": {},
   "cell_type": "markdown",
   "source": [
    "#### bank_balance ❌  \n",
    "?  \n",
    "the balance might be shifted from +500 since the data begins at 500."
   ],
   "id": "c6a692d8cb8c8da2"
  },
  {
   "metadata": {},
   "cell_type": "markdown",
   "source": [
    "#### zip ❌  \n",
    "for the zip code to be valid it needs to be at least 5 digits and some values are lower than that. integer 5-digits"
   ],
   "id": "e9833c49488b957f"
  },
  {
   "metadata": {},
   "cell_type": "markdown",
   "source": "### Other ? 0 / 2",
   "id": "dd79aa1564334684"
  },
  {
   "metadata": {},
   "cell_type": "markdown",
   "source": [
    "#### customer_code ❌  \n",
    "?"
   ],
   "id": "28fec8dd394489bc"
  },
  {
   "metadata": {},
   "cell_type": "markdown",
   "source": [
    "#### customer_fico_score ❌  \n",
    "?"
   ],
   "id": "989ef3f702924bee"
  }
 ],
 "metadata": {
  "kernelspec": {
   "display_name": "Python 3",
   "language": "python",
   "name": "python3"
  },
  "language_info": {
   "codemirror_mode": {
    "name": "ipython",
    "version": 2
   },
   "file_extension": ".py",
   "mimetype": "text/x-python",
   "name": "python",
   "nbconvert_exporter": "python",
   "pygments_lexer": "ipython2",
   "version": "2.7.6"
  }
 },
 "nbformat": 4,
 "nbformat_minor": 5
}
